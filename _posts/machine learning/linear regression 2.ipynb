{
 "cells": [
  {
   "cell_type": "code",
   "execution_count": 17,
   "metadata": {
    "collapsed": false
   },
   "outputs": [
    {
     "name": "stdout",
     "output_type": "stream",
     "text": [
      "9.53674316406e-09\n",
      "0.0289958595295\n",
      "14551.9471249\n",
      "9.53674316406e-09\n",
      "0.0178556701885\n",
      "13445.2965936\n",
      "9.53674316406e-09\n",
      "0.0136389280997\n",
      "12667.4844238\n",
      "9.53674316406e-09\n",
      "0.0108359356018\n",
      "12059.2122074\n",
      "9.53674316406e-09\n",
      "0.00871445474331\n",
      "11572.7139765\n",
      "9.53674316406e-09\n",
      "0.00705550945895\n",
      "11180.1031006\n",
      "9.53674316406e-09\n",
      "0.00573910442836\n",
      "10861.4755539\n",
      "9.53674316406e-09\n",
      "0.0046843117143\n",
      "10601.8459275\n",
      "9.53674316406e-09\n",
      "0.0038330681673\n",
      "10389.6610582\n",
      "9.53674316406e-09\n",
      "0.00314241523847\n",
      "10215.869066\n",
      "9.53674316406e-09\n",
      "0.00257983194206\n",
      "10073.2897318\n",
      "9.53674316406e-09\n",
      "0.00212022951018\n",
      "9956.17301295\n",
      "9.53674316406e-09\n",
      "0.00174395228532\n",
      "9859.88067813\n",
      "9.53674316406e-09\n",
      "0.00143541100988\n",
      "9780.65090307\n",
      "9.53674316406e-09\n",
      "0.00118212304915\n",
      "9715.42029972\n",
      "9.53674316406e-09\n",
      "0.000974020400463\n",
      "9661.68678948\n",
      "9.53674316406e-09\n",
      "0.000802937991466\n",
      "9617.40228196\n",
      "9.53674316406e-09\n",
      "0.000662227157591\n",
      "9580.88762564\n",
      "9.53674316406e-09\n",
      "0.000546457660676\n",
      "9550.76454983\n",
      "9.53674316406e-09\n",
      "0.000451184765552\n",
      "9525.90079742\n",
      "end\n"
     ]
    }
   ],
   "source": [
    "import numpy as np\n",
    "import scipy.optimize as opt\n",
    "import math\n",
    "import matplotlib.pyplot as plt\n",
    "from random import *\n",
    "    \n",
    "# read data\n",
    "f_data = np.loadtxt(\"housing.data\")\n",
    "data = [[1] for _ in range(len(f_data))]\n",
    "for i,line in enumerate(f_data):\n",
    "    data[i].extend(line)\n",
    "\n",
    "data = np.matrix(data)\n",
    "train_x = data[0:400,0:-1]\n",
    "train_y = data[0:400,-1]\n",
    "test_x = data[400:len(data),0:-1]\n",
    "test_y = data[400:len(data),-1]\n",
    "\n",
    "m,n = train_x.shape\n",
    "theta = np.matrix([random() for _ in range(n)])\n",
    "\n",
    "def dif(theta, x, y):\n",
    "    return x * np.transpose(theta) - y\n",
    "\n",
    "def calcGrad(theta, x, y):\n",
    "    return np.transpose(dif(theta, x, y)) * x\n",
    "\n",
    "def normGrad(theta, x, y):\n",
    "    g = calcGrad(theta, x, y)\n",
    "    mo = math.sqrt(g * np.transpose(g))\n",
    "    return g/mo\n",
    "\n",
    "def dis(theta, x, y):\n",
    "    df = dif(theta, x, y)\n",
    "    return (np.transpose(df) * df)[0,0]\n",
    "\n",
    "def gradientChecking(theta, x, y, i, epsilon):\n",
    "    m,n = theta.shape\n",
    "    e = np.zeros(n)\n",
    "    e[i] = epsilon\n",
    "    e = np.matrix(e)\n",
    "    theta1 = theta + e\n",
    "    theta2 = theta - e\n",
    "    proxg = (dis(theta1, x, y) - dis(theta2, x, y))/2/epsilon/2\n",
    "    gg = calcGrad(theta, x, y)\n",
    "    print('estimate:', proxg)\n",
    "    print('formula:', gg[0,i])\n",
    "\n",
    "def alphaSearch(alpha, theta, x, y):\n",
    "    alpha = np.float64(alpha)\n",
    "    new_theta = theta - alpha * calcGrad(theta, x, y)\n",
    "    while(dis(new_theta,x,y) > dis(theta,x,y)):\n",
    "        alpha = alpha / 2;\n",
    "        new_theta = theta - alpha * calcGrad(theta, x, y)\n",
    "    return alpha\n",
    "\n",
    "def learnTheta(error, alpha, theta, x, y):\n",
    "    cnt = 0\n",
    "    while error > 0.0001 and cnt < 100000:\n",
    "        #alpha = 0.01\n",
    "        alpha = alphaSearch(alpha, theta, x, y)\n",
    "        new_theta = theta - alpha * calcGrad(theta, x, y)\n",
    "        error = abs(dis(new_theta,x,y) - dis(theta,x,y))\n",
    "        cnt += 1\n",
    "        theta = new_theta\n",
    "        if (cnt % 50000 == 0) :\n",
    "            print(alpha)\n",
    "            print(error)\n",
    "            print(dis(new_theta,x,y))\n",
    "    #gradientChecking(theta, x, y, 0, 0.0001)\n",
    "    return theta, error, cnt, alpha\n",
    "\n",
    "def drawPic1(theta, x, y):\n",
    "    arr_x = np.asarray(test_x*np.transpose(theta))[:,0]\n",
    "    arr_y = np.asarray(test_y)[:,0]\n",
    "    indexes = arr_x.argsort()\n",
    "    fig, ax = plt.subplots()\n",
    "    ax.plot([i for i in range(len(indexes))], [arr_x[i] for i in indexes], 'x')\n",
    "    ax.plot([i for i in range(len(indexes))], [arr_y[i] for i in indexes], '+')\n",
    "    fig.autofmt_xdate()\n",
    "    plt.show()\n",
    "\n",
    "def covarianceOfMatrix(x):\n",
    "    m,n = x.shape\n",
    "    cov = []\n",
    "    for i in range(m):\n",
    "        tmp = []\n",
    "        for j in range(m):\n",
    "            tmp.append(int(((x[i,:] * np.transpose(x[j,:]))[0,0])))\n",
    "        cov.append(tmp)\n",
    "    print(cov)\n",
    "\n",
    "def costFunc(ta):\n",
    "    ta = np.transpose(np.matrix(ta))\n",
    "    df = train_x * ta - train_y\n",
    "    return (np.transpose(df) * df)[0,0]\n",
    "\n",
    "#gradientChecking(theta, train_x, train_y, 0, 0.001)\n",
    "theta, error, cnt, alpha = learnTheta(0.1, 0.01, theta, train_x, train_y)\n",
    "drawPic(theta, test_x, test_y)\n",
    "#covarianceOfMatrix(train_x[0:50,:])\n",
    "#print(opt.fmin(costFunc, ta))"
   ]
  },
  {
   "cell_type": "code",
   "execution_count": 154,
   "metadata": {
    "collapsed": false
   },
   "outputs": [],
   "source": [
    "def drawPic1(theta, x, y):\n",
    "    arr_x = np.asarray(test_x*np.transpose(theta))[:,0]\n",
    "    arr_y = np.asarray(test_y)[:,0]\n",
    "    indexes = arr_x.argsort()\n",
    "    fig, ax = plt.subplots()\n",
    "    ax.plot([i for i in range(len(indexes))], [arr_x[i] for i in indexes], 'x')\n",
    "    ax.plot([i for i in range(len(indexes))], [arr_y[i] for i in indexes], '+')\n",
    "    fig.autofmt_xdate()\n",
    "    plt.show()\n",
    "drawPic1(theta, test_x, test_y)\n",
    "drawPic1(tta, test_x, test_y)"
   ]
  },
  {
   "cell_type": "code",
   "execution_count": null,
   "metadata": {
    "collapsed": false
   },
   "outputs": [],
   "source": []
  },
  {
   "cell_type": "code",
   "execution_count": null,
   "metadata": {
    "collapsed": false
   },
   "outputs": [],
   "source": []
  },
  {
   "cell_type": "code",
   "execution_count": 24,
   "metadata": {
    "collapsed": false
   },
   "outputs": [
    {
     "name": "stdout",
     "output_type": "stream",
     "text": [
      "[[-0.02015906 -0.54200392 -0.0221485   0.18434258 -0.01305599 -0.00225722\n",
      "  -0.16442812  0.03047642 -0.03548572  0.2743763  -0.06282784  0.01925367\n",
      "  -0.71759042 -0.21775217]]\n",
      "9899.99861211\n"
     ]
    }
   ],
   "source": [
    "tta = [ (4.05255957, -0.32044996, 0.06644376,  0.0903571, 0.85968213,  0.18740047, 4.67627849,  0.01379926, -0.94136831,  0.5444881,  -0.0189391,  -0.35893716, 0.02228453, -0.60101315)]\n",
    "tta = np.matrix(tta)\n",
    "\n",
    "g = calcGrad(tta, train_x, train_y)\n",
    "print(g/np.linalg.norm(calcGrad(tta, train_x, train_y)))\n",
    "#drawPic(tta, train_x, train_y)\n",
    "print(dis(tta, train_x, train_y))"
   ]
  },
  {
   "cell_type": "code",
   "execution_count": null,
   "metadata": {
    "collapsed": false
   },
   "outputs": [],
   "source": []
  },
  {
   "cell_type": "code",
   "execution_count": null,
   "metadata": {
    "collapsed": false
   },
   "outputs": [],
   "source": []
  },
  {
   "cell_type": "code",
   "execution_count": null,
   "metadata": {
    "collapsed": false
   },
   "outputs": [],
   "source": []
  },
  {
   "cell_type": "code",
   "execution_count": null,
   "metadata": {
    "collapsed": false
   },
   "outputs": [],
   "source": []
  },
  {
   "cell_type": "code",
   "execution_count": null,
   "metadata": {
    "collapsed": true
   },
   "outputs": [],
   "source": []
  }
 ],
 "metadata": {
  "kernelspec": {
   "display_name": "Python 3",
   "language": "python",
   "name": "python3"
  },
  "language_info": {
   "codemirror_mode": {
    "name": "ipython",
    "version": 3
   },
   "file_extension": ".py",
   "mimetype": "text/x-python",
   "name": "python",
   "nbconvert_exporter": "python",
   "pygments_lexer": "ipython3",
   "version": "3.4.3"
  }
 },
 "nbformat": 4,
 "nbformat_minor": 0
}
